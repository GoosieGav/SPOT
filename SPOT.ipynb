{
 "cells": [
  {
   "cell_type": "code",
   "execution_count": 2,
   "id": "6e4e0376-f3bd-4fcf-9cf3-139c84be7f0c",
   "metadata": {},
   "outputs": [],
   "source": [
    "#import all libraries necessary\n",
    "\n",
    "import matplotlib.pyplot as plt\n",
    "import numpy as np\n",
    "import pandas as pd\n",
    "import os\n",
    "from glob import glob\n",
    "import seaborn as sns\n",
    "from PIL import Image\n",
    "\n",
    "np.random.seed(42)\n",
    "from sklearn.metrics import confusion_matrix\n",
    "\n",
    "import tensorflow as tf\n",
    "from tensorflow.keras.utils import to_categorical # used for converting labels to one-hot-encoding\n",
    "from tensorflow.keras.models import Sequential\n",
    "from tensorflow.keras.layers import Dense, Dropout, Flatten, Conv2D, MaxPool2D, BatchNormalization\n",
    "from tensorflow.keras import regularizers\n",
    "from sklearn.model_selection import train_test_split\n",
    "from scipy import stats\n",
    "from sklearn.preprocessing import LabelEncoder\n",
    "SIZE = 32"
   ]
  },
  {
   "cell_type": "code",
   "execution_count": 3,
   "id": "423226dd-138d-40fd-852a-fa91f806b32b",
   "metadata": {},
   "outputs": [],
   "source": [
    "skin_df = pd.read_csv('HAM10000_metadata.csv')\n",
    "#load in the data"
   ]
  },
  {
   "cell_type": "code",
   "execution_count": 4,
   "id": "fd23efe5-20fc-442f-9734-5fdd77b7c70c",
   "metadata": {},
   "outputs": [
    {
     "name": "stdout",
     "output_type": "stream",
     "text": [
      "['akiec', 'bcc', 'bkl', 'df', 'mel', 'nv', 'vasc']\n",
      "        lesion_id      image_id   dx    dx_type   age     sex  \\\n",
      "1617  HAM_0007180  ISIC_0033272  mel      histo  65.0    male   \n",
      "8128  HAM_0007195  ISIC_0031923   nv      histo  40.0  female   \n",
      "2168  HAM_0001835  ISIC_0026652  mel      histo  65.0    male   \n",
      "1090  HAM_0000465  ISIC_0030583  bkl  consensus  35.0  female   \n",
      "7754  HAM_0001720  ISIC_0034010   nv      histo  45.0    male   \n",
      "8071  HAM_0006333  ISIC_0024424   nv      histo  35.0    male   \n",
      "7423  HAM_0004548  ISIC_0032832   nv      histo  45.0  female   \n",
      "8984  HAM_0006526  ISIC_0026671   nv      histo  55.0    male   \n",
      "2310  HAM_0003102  ISIC_0032389  mel      histo  65.0    male   \n",
      "7256  HAM_0004260  ISIC_0025525   nv      histo  65.0    male   \n",
      "\n",
      "         localization  label  \n",
      "1617             face      4  \n",
      "8128  lower extremity      5  \n",
      "2168             back      4  \n",
      "1090            trunk      2  \n",
      "7754          abdomen      5  \n",
      "8071            trunk      5  \n",
      "7423  upper extremity      5  \n",
      "8984  lower extremity      5  \n",
      "2310             face      4  \n",
      "7256             back      5  \n"
     ]
    }
   ],
   "source": [
    "le = LabelEncoder()\n",
    "le.fit(skin_df['dx'])\n",
    "LabelEncoder()\n",
    "print(list(le.classes_))\n",
    " \n",
    "skin_df['label'] = le.transform(skin_df[\"dx\"]) \n",
    "print(skin_df.sample(10))\n",
    "\n",
    "#assign labels (0-6) to string labels like akiec, bcc, and more"
   ]
  },
  {
   "cell_type": "code",
   "execution_count": 5,
   "id": "b7216170-d056-42e1-85fc-248e0e766617",
   "metadata": {},
   "outputs": [
    {
     "name": "stdout",
     "output_type": "stream",
     "text": [
      "label\n",
      "5    6705\n",
      "4    1113\n",
      "2    1099\n",
      "1     514\n",
      "0     327\n",
      "6     142\n",
      "3     115\n",
      "Name: count, dtype: int64\n"
     ]
    }
   ],
   "source": [
    "from sklearn.utils import resample\n",
    "print(skin_df['label'].value_counts())\n",
    "\n",
    "#finds how much of each skin cancer type is in the data"
   ]
  },
  {
   "cell_type": "code",
   "execution_count": 6,
   "id": "2f1ccd6a-6fd4-44ed-abc5-fcfaefaa283c",
   "metadata": {},
   "outputs": [],
   "source": [
    "df_0 = skin_df[skin_df['label'] == 0]\n",
    "df_1 = skin_df[skin_df['label'] == 1]\n",
    "df_2 = skin_df[skin_df['label'] == 2]\n",
    "df_3 = skin_df[skin_df['label'] == 3]\n",
    "df_4 = skin_df[skin_df['label'] == 4]\n",
    "df_5 = skin_df[skin_df['label'] == 5]\n",
    "df_6 = skin_df[skin_df['label'] == 6]"
   ]
  },
  {
   "cell_type": "code",
   "execution_count": 7,
   "id": "80797929-a33c-42a1-95b4-5ed6df49f849",
   "metadata": {},
   "outputs": [],
   "source": [
    "n_samples=500\n",
    "df_0_balanced = resample(df_0, replace=True, n_samples=n_samples, random_state=42) \n",
    "df_1_balanced = resample(df_1, replace=True, n_samples=n_samples, random_state=42) \n",
    "df_2_balanced = resample(df_2, replace=True, n_samples=n_samples, random_state=42)\n",
    "df_3_balanced = resample(df_3, replace=True, n_samples=n_samples, random_state=42)\n",
    "df_4_balanced = resample(df_4, replace=True, n_samples=n_samples, random_state=42)\n",
    "df_5_balanced = resample(df_5, replace=True, n_samples=n_samples, random_state=42)\n",
    "df_6_balanced = resample(df_6, replace=True, n_samples=n_samples, random_state=42)"
   ]
  },
  {
   "cell_type": "code",
   "execution_count": 8,
   "id": "c0779616-9ed8-4d27-8477-79f09933fd9a",
   "metadata": {},
   "outputs": [],
   "source": [
    "skin_df_balanced = pd.concat([df_0_balanced, df_1_balanced, \n",
    "                              df_2_balanced, df_3_balanced, \n",
    "                              df_4_balanced, df_5_balanced, df_6_balanced])\n",
    "\n",
    "# Data augmentation: balance the data, now every skin cancer type has 500 samples "
   ]
  },
  {
   "cell_type": "code",
   "execution_count": 9,
   "id": "ea5a0dc8-a309-436c-802e-591fbab2588e",
   "metadata": {},
   "outputs": [
    {
     "data": {
      "text/html": [
       "<div>\n",
       "<style scoped>\n",
       "    .dataframe tbody tr th:only-of-type {\n",
       "        vertical-align: middle;\n",
       "    }\n",
       "\n",
       "    .dataframe tbody tr th {\n",
       "        vertical-align: top;\n",
       "    }\n",
       "\n",
       "    .dataframe thead th {\n",
       "        text-align: right;\n",
       "    }\n",
       "</style>\n",
       "<table border=\"1\" class=\"dataframe\">\n",
       "  <thead>\n",
       "    <tr style=\"text-align: right;\">\n",
       "      <th></th>\n",
       "      <th>lesion_id</th>\n",
       "      <th>image_id</th>\n",
       "      <th>dx</th>\n",
       "      <th>dx_type</th>\n",
       "      <th>age</th>\n",
       "      <th>sex</th>\n",
       "      <th>localization</th>\n",
       "      <th>label</th>\n",
       "    </tr>\n",
       "  </thead>\n",
       "  <tbody>\n",
       "    <tr>\n",
       "      <th>9789</th>\n",
       "      <td>HAM_0003136</td>\n",
       "      <td>ISIC_0026645</td>\n",
       "      <td>akiec</td>\n",
       "      <td>histo</td>\n",
       "      <td>65.0</td>\n",
       "      <td>male</td>\n",
       "      <td>back</td>\n",
       "      <td>0</td>\n",
       "    </tr>\n",
       "    <tr>\n",
       "      <th>9957</th>\n",
       "      <td>HAM_0006587</td>\n",
       "      <td>ISIC_0025780</td>\n",
       "      <td>akiec</td>\n",
       "      <td>histo</td>\n",
       "      <td>70.0</td>\n",
       "      <td>male</td>\n",
       "      <td>face</td>\n",
       "      <td>0</td>\n",
       "    </tr>\n",
       "    <tr>\n",
       "      <th>9793</th>\n",
       "      <td>HAM_0005505</td>\n",
       "      <td>ISIC_0024450</td>\n",
       "      <td>akiec</td>\n",
       "      <td>histo</td>\n",
       "      <td>50.0</td>\n",
       "      <td>male</td>\n",
       "      <td>upper extremity</td>\n",
       "      <td>0</td>\n",
       "    </tr>\n",
       "    <tr>\n",
       "      <th>9758</th>\n",
       "      <td>HAM_0003455</td>\n",
       "      <td>ISIC_0027896</td>\n",
       "      <td>akiec</td>\n",
       "      <td>histo</td>\n",
       "      <td>75.0</td>\n",
       "      <td>male</td>\n",
       "      <td>hand</td>\n",
       "      <td>0</td>\n",
       "    </tr>\n",
       "    <tr>\n",
       "      <th>9875</th>\n",
       "      <td>HAM_0005459</td>\n",
       "      <td>ISIC_0029268</td>\n",
       "      <td>akiec</td>\n",
       "      <td>histo</td>\n",
       "      <td>85.0</td>\n",
       "      <td>male</td>\n",
       "      <td>upper extremity</td>\n",
       "      <td>0</td>\n",
       "    </tr>\n",
       "  </tbody>\n",
       "</table>\n",
       "</div>"
      ],
      "text/plain": [
       "        lesion_id      image_id     dx dx_type   age   sex     localization  \\\n",
       "9789  HAM_0003136  ISIC_0026645  akiec   histo  65.0  male             back   \n",
       "9957  HAM_0006587  ISIC_0025780  akiec   histo  70.0  male             face   \n",
       "9793  HAM_0005505  ISIC_0024450  akiec   histo  50.0  male  upper extremity   \n",
       "9758  HAM_0003455  ISIC_0027896  akiec   histo  75.0  male             hand   \n",
       "9875  HAM_0005459  ISIC_0029268  akiec   histo  85.0  male  upper extremity   \n",
       "\n",
       "      label  \n",
       "9789      0  \n",
       "9957      0  \n",
       "9793      0  \n",
       "9758      0  \n",
       "9875      0  "
      ]
     },
     "execution_count": 9,
     "metadata": {},
     "output_type": "execute_result"
    }
   ],
   "source": [
    "skin_df_balanced.head()"
   ]
  },
  {
   "cell_type": "code",
   "execution_count": 10,
   "id": "7ac0d9e8-12a9-405c-9431-a18989c9d41f",
   "metadata": {},
   "outputs": [
    {
     "name": "stdout",
     "output_type": "stream",
     "text": [
      "label\n",
      "0    500\n",
      "1    500\n",
      "2    500\n",
      "3    500\n",
      "4    500\n",
      "5    500\n",
      "6    500\n",
      "Name: count, dtype: int64\n"
     ]
    }
   ],
   "source": [
    "print(skin_df_balanced['label'].value_counts())"
   ]
  },
  {
   "cell_type": "code",
   "execution_count": 11,
   "id": "2a94e7b3-cf14-4838-827b-40393fe6fd96",
   "metadata": {},
   "outputs": [],
   "source": [
    "image_path = {os.path.splitext(os.path.basename(x))[0]: x\n",
    "                     for x in glob(os.path.join('HAM10000/', '*', '*.jpg'))}"
   ]
  },
  {
   "cell_type": "code",
   "execution_count": 16,
   "id": "40c9f752-e1e6-460d-a9a9-7294f37db778",
   "metadata": {},
   "outputs": [
    {
     "ename": "AttributeError",
     "evalue": "'NoneType' object has no attribute 'read'",
     "output_type": "error",
     "traceback": [
      "\u001b[0;31m---------------------------------------------------------------------------\u001b[0m",
      "\u001b[0;31mAttributeError\u001b[0m                            Traceback (most recent call last)",
      "File \u001b[0;32m~/Desktop/coding/TSA-Nationals-2024/SPOT/SPOT-env/lib/python3.11/site-packages/PIL/Image.py:3475\u001b[0m, in \u001b[0;36mopen\u001b[0;34m(fp, mode, formats)\u001b[0m\n\u001b[1;32m   3474\u001b[0m \u001b[38;5;28;01mtry\u001b[39;00m:\n\u001b[0;32m-> 3475\u001b[0m     \u001b[43mfp\u001b[49m\u001b[38;5;241;43m.\u001b[39;49m\u001b[43mseek\u001b[49m(\u001b[38;5;241m0\u001b[39m)\n\u001b[1;32m   3476\u001b[0m \u001b[38;5;28;01mexcept\u001b[39;00m (\u001b[38;5;167;01mAttributeError\u001b[39;00m, io\u001b[38;5;241m.\u001b[39mUnsupportedOperation):\n",
      "\u001b[0;31mAttributeError\u001b[0m: 'NoneType' object has no attribute 'seek'",
      "\nDuring handling of the above exception, another exception occurred:\n",
      "\u001b[0;31mAttributeError\u001b[0m                            Traceback (most recent call last)",
      "Cell \u001b[0;32mIn[16], line 4\u001b[0m\n\u001b[1;32m      2\u001b[0m skin_df_balanced[\u001b[38;5;124m'\u001b[39m\u001b[38;5;124mpath\u001b[39m\u001b[38;5;124m'\u001b[39m] \u001b[38;5;241m=\u001b[39m skin_df[\u001b[38;5;124m'\u001b[39m\u001b[38;5;124mimage_id\u001b[39m\u001b[38;5;124m'\u001b[39m]\u001b[38;5;241m.\u001b[39mmap(image_path\u001b[38;5;241m.\u001b[39mget)\n\u001b[1;32m      3\u001b[0m \u001b[38;5;66;03m#Use the path to read images.\u001b[39;00m\n\u001b[0;32m----> 4\u001b[0m skin_df_balanced[\u001b[38;5;124m'\u001b[39m\u001b[38;5;124mimage\u001b[39m\u001b[38;5;124m'\u001b[39m] \u001b[38;5;241m=\u001b[39m \u001b[43mskin_df_balanced\u001b[49m\u001b[43m[\u001b[49m\u001b[38;5;124;43m'\u001b[39;49m\u001b[38;5;124;43mpath\u001b[39;49m\u001b[38;5;124;43m'\u001b[39;49m\u001b[43m]\u001b[49m\u001b[38;5;241;43m.\u001b[39;49m\u001b[43mmap\u001b[49m\u001b[43m(\u001b[49m\u001b[38;5;28;43;01mlambda\u001b[39;49;00m\u001b[43m \u001b[49m\u001b[43mx\u001b[49m\u001b[43m:\u001b[49m\u001b[43m \u001b[49m\u001b[43mnp\u001b[49m\u001b[38;5;241;43m.\u001b[39;49m\u001b[43masarray\u001b[49m\u001b[43m(\u001b[49m\u001b[43mImage\u001b[49m\u001b[38;5;241;43m.\u001b[39;49m\u001b[43mopen\u001b[49m\u001b[43m(\u001b[49m\u001b[43mx\u001b[49m\u001b[43m)\u001b[49m\u001b[38;5;241;43m.\u001b[39;49m\u001b[43mresize\u001b[49m\u001b[43m(\u001b[49m\u001b[43m(\u001b[49m\u001b[43mSIZE\u001b[49m\u001b[43m,\u001b[49m\u001b[43mSIZE\u001b[49m\u001b[43m)\u001b[49m\u001b[43m)\u001b[49m\u001b[43m)\u001b[49m\u001b[43m)\u001b[49m\n",
      "File \u001b[0;32m~/Desktop/coding/TSA-Nationals-2024/SPOT/SPOT-env/lib/python3.11/site-packages/pandas/core/series.py:4700\u001b[0m, in \u001b[0;36mSeries.map\u001b[0;34m(self, arg, na_action)\u001b[0m\n\u001b[1;32m   4620\u001b[0m \u001b[38;5;28;01mdef\u001b[39;00m \u001b[38;5;21mmap\u001b[39m(\n\u001b[1;32m   4621\u001b[0m     \u001b[38;5;28mself\u001b[39m,\n\u001b[1;32m   4622\u001b[0m     arg: Callable \u001b[38;5;241m|\u001b[39m Mapping \u001b[38;5;241m|\u001b[39m Series,\n\u001b[1;32m   4623\u001b[0m     na_action: Literal[\u001b[38;5;124m\"\u001b[39m\u001b[38;5;124mignore\u001b[39m\u001b[38;5;124m\"\u001b[39m] \u001b[38;5;241m|\u001b[39m \u001b[38;5;28;01mNone\u001b[39;00m \u001b[38;5;241m=\u001b[39m \u001b[38;5;28;01mNone\u001b[39;00m,\n\u001b[1;32m   4624\u001b[0m ) \u001b[38;5;241m-\u001b[39m\u001b[38;5;241m>\u001b[39m Series:\n\u001b[1;32m   4625\u001b[0m \u001b[38;5;250m    \u001b[39m\u001b[38;5;124;03m\"\"\"\u001b[39;00m\n\u001b[1;32m   4626\u001b[0m \u001b[38;5;124;03m    Map values of Series according to an input mapping or function.\u001b[39;00m\n\u001b[1;32m   4627\u001b[0m \n\u001b[0;32m   (...)\u001b[0m\n\u001b[1;32m   4698\u001b[0m \u001b[38;5;124;03m    dtype: object\u001b[39;00m\n\u001b[1;32m   4699\u001b[0m \u001b[38;5;124;03m    \"\"\"\u001b[39;00m\n\u001b[0;32m-> 4700\u001b[0m     new_values \u001b[38;5;241m=\u001b[39m \u001b[38;5;28;43mself\u001b[39;49m\u001b[38;5;241;43m.\u001b[39;49m\u001b[43m_map_values\u001b[49m\u001b[43m(\u001b[49m\u001b[43marg\u001b[49m\u001b[43m,\u001b[49m\u001b[43m \u001b[49m\u001b[43mna_action\u001b[49m\u001b[38;5;241;43m=\u001b[39;49m\u001b[43mna_action\u001b[49m\u001b[43m)\u001b[49m\n\u001b[1;32m   4701\u001b[0m     \u001b[38;5;28;01mreturn\u001b[39;00m \u001b[38;5;28mself\u001b[39m\u001b[38;5;241m.\u001b[39m_constructor(new_values, index\u001b[38;5;241m=\u001b[39m\u001b[38;5;28mself\u001b[39m\u001b[38;5;241m.\u001b[39mindex, copy\u001b[38;5;241m=\u001b[39m\u001b[38;5;28;01mFalse\u001b[39;00m)\u001b[38;5;241m.\u001b[39m__finalize__(\n\u001b[1;32m   4702\u001b[0m         \u001b[38;5;28mself\u001b[39m, method\u001b[38;5;241m=\u001b[39m\u001b[38;5;124m\"\u001b[39m\u001b[38;5;124mmap\u001b[39m\u001b[38;5;124m\"\u001b[39m\n\u001b[1;32m   4703\u001b[0m     )\n",
      "File \u001b[0;32m~/Desktop/coding/TSA-Nationals-2024/SPOT/SPOT-env/lib/python3.11/site-packages/pandas/core/base.py:921\u001b[0m, in \u001b[0;36mIndexOpsMixin._map_values\u001b[0;34m(self, mapper, na_action, convert)\u001b[0m\n\u001b[1;32m    918\u001b[0m \u001b[38;5;28;01mif\u001b[39;00m \u001b[38;5;28misinstance\u001b[39m(arr, ExtensionArray):\n\u001b[1;32m    919\u001b[0m     \u001b[38;5;28;01mreturn\u001b[39;00m arr\u001b[38;5;241m.\u001b[39mmap(mapper, na_action\u001b[38;5;241m=\u001b[39mna_action)\n\u001b[0;32m--> 921\u001b[0m \u001b[38;5;28;01mreturn\u001b[39;00m \u001b[43malgorithms\u001b[49m\u001b[38;5;241;43m.\u001b[39;49m\u001b[43mmap_array\u001b[49m\u001b[43m(\u001b[49m\u001b[43marr\u001b[49m\u001b[43m,\u001b[49m\u001b[43m \u001b[49m\u001b[43mmapper\u001b[49m\u001b[43m,\u001b[49m\u001b[43m \u001b[49m\u001b[43mna_action\u001b[49m\u001b[38;5;241;43m=\u001b[39;49m\u001b[43mna_action\u001b[49m\u001b[43m,\u001b[49m\u001b[43m \u001b[49m\u001b[43mconvert\u001b[49m\u001b[38;5;241;43m=\u001b[39;49m\u001b[43mconvert\u001b[49m\u001b[43m)\u001b[49m\n",
      "File \u001b[0;32m~/Desktop/coding/TSA-Nationals-2024/SPOT/SPOT-env/lib/python3.11/site-packages/pandas/core/algorithms.py:1743\u001b[0m, in \u001b[0;36mmap_array\u001b[0;34m(arr, mapper, na_action, convert)\u001b[0m\n\u001b[1;32m   1741\u001b[0m values \u001b[38;5;241m=\u001b[39m arr\u001b[38;5;241m.\u001b[39mastype(\u001b[38;5;28mobject\u001b[39m, copy\u001b[38;5;241m=\u001b[39m\u001b[38;5;28;01mFalse\u001b[39;00m)\n\u001b[1;32m   1742\u001b[0m \u001b[38;5;28;01mif\u001b[39;00m na_action \u001b[38;5;129;01mis\u001b[39;00m \u001b[38;5;28;01mNone\u001b[39;00m:\n\u001b[0;32m-> 1743\u001b[0m     \u001b[38;5;28;01mreturn\u001b[39;00m \u001b[43mlib\u001b[49m\u001b[38;5;241;43m.\u001b[39;49m\u001b[43mmap_infer\u001b[49m\u001b[43m(\u001b[49m\u001b[43mvalues\u001b[49m\u001b[43m,\u001b[49m\u001b[43m \u001b[49m\u001b[43mmapper\u001b[49m\u001b[43m,\u001b[49m\u001b[43m \u001b[49m\u001b[43mconvert\u001b[49m\u001b[38;5;241;43m=\u001b[39;49m\u001b[43mconvert\u001b[49m\u001b[43m)\u001b[49m\n\u001b[1;32m   1744\u001b[0m \u001b[38;5;28;01melse\u001b[39;00m:\n\u001b[1;32m   1745\u001b[0m     \u001b[38;5;28;01mreturn\u001b[39;00m lib\u001b[38;5;241m.\u001b[39mmap_infer_mask(\n\u001b[1;32m   1746\u001b[0m         values, mapper, mask\u001b[38;5;241m=\u001b[39misna(values)\u001b[38;5;241m.\u001b[39mview(np\u001b[38;5;241m.\u001b[39muint8), convert\u001b[38;5;241m=\u001b[39mconvert\n\u001b[1;32m   1747\u001b[0m     )\n",
      "File \u001b[0;32mlib.pyx:2972\u001b[0m, in \u001b[0;36mpandas._libs.lib.map_infer\u001b[0;34m()\u001b[0m\n",
      "Cell \u001b[0;32mIn[16], line 4\u001b[0m, in \u001b[0;36m<lambda>\u001b[0;34m(x)\u001b[0m\n\u001b[1;32m      2\u001b[0m skin_df_balanced[\u001b[38;5;124m'\u001b[39m\u001b[38;5;124mpath\u001b[39m\u001b[38;5;124m'\u001b[39m] \u001b[38;5;241m=\u001b[39m skin_df[\u001b[38;5;124m'\u001b[39m\u001b[38;5;124mimage_id\u001b[39m\u001b[38;5;124m'\u001b[39m]\u001b[38;5;241m.\u001b[39mmap(image_path\u001b[38;5;241m.\u001b[39mget)\n\u001b[1;32m      3\u001b[0m \u001b[38;5;66;03m#Use the path to read images.\u001b[39;00m\n\u001b[0;32m----> 4\u001b[0m skin_df_balanced[\u001b[38;5;124m'\u001b[39m\u001b[38;5;124mimage\u001b[39m\u001b[38;5;124m'\u001b[39m] \u001b[38;5;241m=\u001b[39m skin_df_balanced[\u001b[38;5;124m'\u001b[39m\u001b[38;5;124mpath\u001b[39m\u001b[38;5;124m'\u001b[39m]\u001b[38;5;241m.\u001b[39mmap(\u001b[38;5;28;01mlambda\u001b[39;00m x: np\u001b[38;5;241m.\u001b[39masarray(\u001b[43mImage\u001b[49m\u001b[38;5;241;43m.\u001b[39;49m\u001b[43mopen\u001b[49m\u001b[43m(\u001b[49m\u001b[43mx\u001b[49m\u001b[43m)\u001b[49m\u001b[38;5;241m.\u001b[39mresize((SIZE,SIZE))))\n",
      "File \u001b[0;32m~/Desktop/coding/TSA-Nationals-2024/SPOT/SPOT-env/lib/python3.11/site-packages/PIL/Image.py:3477\u001b[0m, in \u001b[0;36mopen\u001b[0;34m(fp, mode, formats)\u001b[0m\n\u001b[1;32m   3475\u001b[0m     fp\u001b[38;5;241m.\u001b[39mseek(\u001b[38;5;241m0\u001b[39m)\n\u001b[1;32m   3476\u001b[0m \u001b[38;5;28;01mexcept\u001b[39;00m (\u001b[38;5;167;01mAttributeError\u001b[39;00m, io\u001b[38;5;241m.\u001b[39mUnsupportedOperation):\n\u001b[0;32m-> 3477\u001b[0m     fp \u001b[38;5;241m=\u001b[39m io\u001b[38;5;241m.\u001b[39mBytesIO(\u001b[43mfp\u001b[49m\u001b[38;5;241;43m.\u001b[39;49m\u001b[43mread\u001b[49m())\n\u001b[1;32m   3478\u001b[0m     exclusive_fp \u001b[38;5;241m=\u001b[39m \u001b[38;5;28;01mTrue\u001b[39;00m\n\u001b[1;32m   3480\u001b[0m prefix \u001b[38;5;241m=\u001b[39m fp\u001b[38;5;241m.\u001b[39mread(\u001b[38;5;241m16\u001b[39m)\n",
      "\u001b[0;31mAttributeError\u001b[0m: 'NoneType' object has no attribute 'read'"
     ]
    }
   ],
   "source": [
    "#Define the path and add as a new column\n",
    "skin_df_balanced['path'] = skin_df['image_id'].map(image_path.get)\n",
    "#Use the path to read images.\n",
    "skin_df_balanced['image'] = skin_df_balanced['path'].map(lambda x: np.asarray(Image.open(x).resize((SIZE,SIZE))))"
   ]
  },
  {
   "cell_type": "code",
   "execution_count": 133,
   "id": "3ac3441f-6da6-4929-a0b3-885440af9ada",
   "metadata": {},
   "outputs": [],
   "source": [
    "#convert dataframe column of images into numpy array\n",
    "X = np.asarray(skin_df_balanced['image'].tolist())\n",
    "X = X/255.  # scale values to 0-1. Using standardscaler or other scaling methods.\n",
    "Y=skin_df_balanced['label']  #assign label values to Y\n",
    "Y_cat = to_categorical(Y, num_classes=7) #Convert to categorical as this is a multiclass classification problem\n",
    "#Split to training and testing\n",
    "x_train, x_test, y_train, y_test = train_test_split(X, Y_cat, test_size=0.2, random_state=42)\n",
    "\n",
    "x_train, x_val, y_train, y_val = train_test_split(x_train, y_train, test_size=0.25, random_state=42) # 0.25 x 0.8 = 0.2\n",
    "\n",
    "#splitting data into test, validation, and train"
   ]
  },
  {
   "cell_type": "code",
   "execution_count": 134,
   "id": "fe16f8f9-eeb5-49a8-9167-3957dc381264",
   "metadata": {},
   "outputs": [
    {
     "name": "stderr",
     "output_type": "stream",
     "text": [
      "/Library/Frameworks/Python.framework/Versions/3.12/lib/python3.12/site-packages/keras/src/layers/convolutional/base_conv.py:99: UserWarning: Do not pass an `input_shape`/`input_dim` argument to a layer. When using Sequential models, prefer using an `Input(shape)` object as the first layer in the model instead.\n",
      "  super().__init__(\n"
     ]
    },
    {
     "data": {
      "text/html": [
       "<pre style=\"white-space:pre;overflow-x:auto;line-height:normal;font-family:Menlo,'DejaVu Sans Mono',consolas,'Courier New',monospace\"><span style=\"font-weight: bold\">Model: \"sequential_14\"</span>\n",
       "</pre>\n"
      ],
      "text/plain": [
       "\u001b[1mModel: \"sequential_14\"\u001b[0m\n"
      ]
     },
     "metadata": {},
     "output_type": "display_data"
    },
    {
     "data": {
      "text/html": [
       "<pre style=\"white-space:pre;overflow-x:auto;line-height:normal;font-family:Menlo,'DejaVu Sans Mono',consolas,'Courier New',monospace\">┏━━━━━━━━━━━━━━━━━━━━━━━━━━━━━━━━━┳━━━━━━━━━━━━━━━━━━━━━━━━┳━━━━━━━━━━━━━━━┓\n",
       "┃<span style=\"font-weight: bold\"> Layer (type)                    </span>┃<span style=\"font-weight: bold\"> Output Shape           </span>┃<span style=\"font-weight: bold\">       Param # </span>┃\n",
       "┡━━━━━━━━━━━━━━━━━━━━━━━━━━━━━━━━━╇━━━━━━━━━━━━━━━━━━━━━━━━╇━━━━━━━━━━━━━━━┩\n",
       "│ conv2d_47 (<span style=\"color: #0087ff; text-decoration-color: #0087ff\">Conv2D</span>)              │ (<span style=\"color: #00d7ff; text-decoration-color: #00d7ff\">None</span>, <span style=\"color: #00af00; text-decoration-color: #00af00\">30</span>, <span style=\"color: #00af00; text-decoration-color: #00af00\">30</span>, <span style=\"color: #00af00; text-decoration-color: #00af00\">256</span>)    │         <span style=\"color: #00af00; text-decoration-color: #00af00\">7,168</span> │\n",
       "├─────────────────────────────────┼────────────────────────┼───────────────┤\n",
       "│ max_pooling2d_47 (<span style=\"color: #0087ff; text-decoration-color: #0087ff\">MaxPooling2D</span>) │ (<span style=\"color: #00d7ff; text-decoration-color: #00d7ff\">None</span>, <span style=\"color: #00af00; text-decoration-color: #00af00\">15</span>, <span style=\"color: #00af00; text-decoration-color: #00af00\">15</span>, <span style=\"color: #00af00; text-decoration-color: #00af00\">256</span>)    │             <span style=\"color: #00af00; text-decoration-color: #00af00\">0</span> │\n",
       "├─────────────────────────────────┼────────────────────────┼───────────────┤\n",
       "│ dropout_52 (<span style=\"color: #0087ff; text-decoration-color: #0087ff\">Dropout</span>)            │ (<span style=\"color: #00d7ff; text-decoration-color: #00d7ff\">None</span>, <span style=\"color: #00af00; text-decoration-color: #00af00\">15</span>, <span style=\"color: #00af00; text-decoration-color: #00af00\">15</span>, <span style=\"color: #00af00; text-decoration-color: #00af00\">256</span>)    │             <span style=\"color: #00af00; text-decoration-color: #00af00\">0</span> │\n",
       "├─────────────────────────────────┼────────────────────────┼───────────────┤\n",
       "│ conv2d_48 (<span style=\"color: #0087ff; text-decoration-color: #0087ff\">Conv2D</span>)              │ (<span style=\"color: #00d7ff; text-decoration-color: #00d7ff\">None</span>, <span style=\"color: #00af00; text-decoration-color: #00af00\">13</span>, <span style=\"color: #00af00; text-decoration-color: #00af00\">13</span>, <span style=\"color: #00af00; text-decoration-color: #00af00\">128</span>)    │       <span style=\"color: #00af00; text-decoration-color: #00af00\">295,040</span> │\n",
       "├─────────────────────────────────┼────────────────────────┼───────────────┤\n",
       "│ max_pooling2d_48 (<span style=\"color: #0087ff; text-decoration-color: #0087ff\">MaxPooling2D</span>) │ (<span style=\"color: #00d7ff; text-decoration-color: #00d7ff\">None</span>, <span style=\"color: #00af00; text-decoration-color: #00af00\">6</span>, <span style=\"color: #00af00; text-decoration-color: #00af00\">6</span>, <span style=\"color: #00af00; text-decoration-color: #00af00\">128</span>)      │             <span style=\"color: #00af00; text-decoration-color: #00af00\">0</span> │\n",
       "├─────────────────────────────────┼────────────────────────┼───────────────┤\n",
       "│ dropout_53 (<span style=\"color: #0087ff; text-decoration-color: #0087ff\">Dropout</span>)            │ (<span style=\"color: #00d7ff; text-decoration-color: #00d7ff\">None</span>, <span style=\"color: #00af00; text-decoration-color: #00af00\">6</span>, <span style=\"color: #00af00; text-decoration-color: #00af00\">6</span>, <span style=\"color: #00af00; text-decoration-color: #00af00\">128</span>)      │             <span style=\"color: #00af00; text-decoration-color: #00af00\">0</span> │\n",
       "├─────────────────────────────────┼────────────────────────┼───────────────┤\n",
       "│ conv2d_49 (<span style=\"color: #0087ff; text-decoration-color: #0087ff\">Conv2D</span>)              │ (<span style=\"color: #00d7ff; text-decoration-color: #00d7ff\">None</span>, <span style=\"color: #00af00; text-decoration-color: #00af00\">4</span>, <span style=\"color: #00af00; text-decoration-color: #00af00\">4</span>, <span style=\"color: #00af00; text-decoration-color: #00af00\">64</span>)       │        <span style=\"color: #00af00; text-decoration-color: #00af00\">73,792</span> │\n",
       "├─────────────────────────────────┼────────────────────────┼───────────────┤\n",
       "│ max_pooling2d_49 (<span style=\"color: #0087ff; text-decoration-color: #0087ff\">MaxPooling2D</span>) │ (<span style=\"color: #00d7ff; text-decoration-color: #00d7ff\">None</span>, <span style=\"color: #00af00; text-decoration-color: #00af00\">2</span>, <span style=\"color: #00af00; text-decoration-color: #00af00\">2</span>, <span style=\"color: #00af00; text-decoration-color: #00af00\">64</span>)       │             <span style=\"color: #00af00; text-decoration-color: #00af00\">0</span> │\n",
       "├─────────────────────────────────┼────────────────────────┼───────────────┤\n",
       "│ dropout_54 (<span style=\"color: #0087ff; text-decoration-color: #0087ff\">Dropout</span>)            │ (<span style=\"color: #00d7ff; text-decoration-color: #00d7ff\">None</span>, <span style=\"color: #00af00; text-decoration-color: #00af00\">2</span>, <span style=\"color: #00af00; text-decoration-color: #00af00\">2</span>, <span style=\"color: #00af00; text-decoration-color: #00af00\">64</span>)       │             <span style=\"color: #00af00; text-decoration-color: #00af00\">0</span> │\n",
       "├─────────────────────────────────┼────────────────────────┼───────────────┤\n",
       "│ flatten_9 (<span style=\"color: #0087ff; text-decoration-color: #0087ff\">Flatten</span>)             │ (<span style=\"color: #00d7ff; text-decoration-color: #00d7ff\">None</span>, <span style=\"color: #00af00; text-decoration-color: #00af00\">256</span>)            │             <span style=\"color: #00af00; text-decoration-color: #00af00\">0</span> │\n",
       "├─────────────────────────────────┼────────────────────────┼───────────────┤\n",
       "│ dense_28 (<span style=\"color: #0087ff; text-decoration-color: #0087ff\">Dense</span>)                │ (<span style=\"color: #00d7ff; text-decoration-color: #00d7ff\">None</span>, <span style=\"color: #00af00; text-decoration-color: #00af00\">32</span>)             │         <span style=\"color: #00af00; text-decoration-color: #00af00\">8,224</span> │\n",
       "├─────────────────────────────────┼────────────────────────┼───────────────┤\n",
       "│ dense_29 (<span style=\"color: #0087ff; text-decoration-color: #0087ff\">Dense</span>)                │ (<span style=\"color: #00d7ff; text-decoration-color: #00d7ff\">None</span>, <span style=\"color: #00af00; text-decoration-color: #00af00\">7</span>)              │           <span style=\"color: #00af00; text-decoration-color: #00af00\">231</span> │\n",
       "└─────────────────────────────────┴────────────────────────┴───────────────┘\n",
       "</pre>\n"
      ],
      "text/plain": [
       "┏━━━━━━━━━━━━━━━━━━━━━━━━━━━━━━━━━┳━━━━━━━━━━━━━━━━━━━━━━━━┳━━━━━━━━━━━━━━━┓\n",
       "┃\u001b[1m \u001b[0m\u001b[1mLayer (type)                   \u001b[0m\u001b[1m \u001b[0m┃\u001b[1m \u001b[0m\u001b[1mOutput Shape          \u001b[0m\u001b[1m \u001b[0m┃\u001b[1m \u001b[0m\u001b[1m      Param #\u001b[0m\u001b[1m \u001b[0m┃\n",
       "┡━━━━━━━━━━━━━━━━━━━━━━━━━━━━━━━━━╇━━━━━━━━━━━━━━━━━━━━━━━━╇━━━━━━━━━━━━━━━┩\n",
       "│ conv2d_47 (\u001b[38;5;33mConv2D\u001b[0m)              │ (\u001b[38;5;45mNone\u001b[0m, \u001b[38;5;34m30\u001b[0m, \u001b[38;5;34m30\u001b[0m, \u001b[38;5;34m256\u001b[0m)    │         \u001b[38;5;34m7,168\u001b[0m │\n",
       "├─────────────────────────────────┼────────────────────────┼───────────────┤\n",
       "│ max_pooling2d_47 (\u001b[38;5;33mMaxPooling2D\u001b[0m) │ (\u001b[38;5;45mNone\u001b[0m, \u001b[38;5;34m15\u001b[0m, \u001b[38;5;34m15\u001b[0m, \u001b[38;5;34m256\u001b[0m)    │             \u001b[38;5;34m0\u001b[0m │\n",
       "├─────────────────────────────────┼────────────────────────┼───────────────┤\n",
       "│ dropout_52 (\u001b[38;5;33mDropout\u001b[0m)            │ (\u001b[38;5;45mNone\u001b[0m, \u001b[38;5;34m15\u001b[0m, \u001b[38;5;34m15\u001b[0m, \u001b[38;5;34m256\u001b[0m)    │             \u001b[38;5;34m0\u001b[0m │\n",
       "├─────────────────────────────────┼────────────────────────┼───────────────┤\n",
       "│ conv2d_48 (\u001b[38;5;33mConv2D\u001b[0m)              │ (\u001b[38;5;45mNone\u001b[0m, \u001b[38;5;34m13\u001b[0m, \u001b[38;5;34m13\u001b[0m, \u001b[38;5;34m128\u001b[0m)    │       \u001b[38;5;34m295,040\u001b[0m │\n",
       "├─────────────────────────────────┼────────────────────────┼───────────────┤\n",
       "│ max_pooling2d_48 (\u001b[38;5;33mMaxPooling2D\u001b[0m) │ (\u001b[38;5;45mNone\u001b[0m, \u001b[38;5;34m6\u001b[0m, \u001b[38;5;34m6\u001b[0m, \u001b[38;5;34m128\u001b[0m)      │             \u001b[38;5;34m0\u001b[0m │\n",
       "├─────────────────────────────────┼────────────────────────┼───────────────┤\n",
       "│ dropout_53 (\u001b[38;5;33mDropout\u001b[0m)            │ (\u001b[38;5;45mNone\u001b[0m, \u001b[38;5;34m6\u001b[0m, \u001b[38;5;34m6\u001b[0m, \u001b[38;5;34m128\u001b[0m)      │             \u001b[38;5;34m0\u001b[0m │\n",
       "├─────────────────────────────────┼────────────────────────┼───────────────┤\n",
       "│ conv2d_49 (\u001b[38;5;33mConv2D\u001b[0m)              │ (\u001b[38;5;45mNone\u001b[0m, \u001b[38;5;34m4\u001b[0m, \u001b[38;5;34m4\u001b[0m, \u001b[38;5;34m64\u001b[0m)       │        \u001b[38;5;34m73,792\u001b[0m │\n",
       "├─────────────────────────────────┼────────────────────────┼───────────────┤\n",
       "│ max_pooling2d_49 (\u001b[38;5;33mMaxPooling2D\u001b[0m) │ (\u001b[38;5;45mNone\u001b[0m, \u001b[38;5;34m2\u001b[0m, \u001b[38;5;34m2\u001b[0m, \u001b[38;5;34m64\u001b[0m)       │             \u001b[38;5;34m0\u001b[0m │\n",
       "├─────────────────────────────────┼────────────────────────┼───────────────┤\n",
       "│ dropout_54 (\u001b[38;5;33mDropout\u001b[0m)            │ (\u001b[38;5;45mNone\u001b[0m, \u001b[38;5;34m2\u001b[0m, \u001b[38;5;34m2\u001b[0m, \u001b[38;5;34m64\u001b[0m)       │             \u001b[38;5;34m0\u001b[0m │\n",
       "├─────────────────────────────────┼────────────────────────┼───────────────┤\n",
       "│ flatten_9 (\u001b[38;5;33mFlatten\u001b[0m)             │ (\u001b[38;5;45mNone\u001b[0m, \u001b[38;5;34m256\u001b[0m)            │             \u001b[38;5;34m0\u001b[0m │\n",
       "├─────────────────────────────────┼────────────────────────┼───────────────┤\n",
       "│ dense_28 (\u001b[38;5;33mDense\u001b[0m)                │ (\u001b[38;5;45mNone\u001b[0m, \u001b[38;5;34m32\u001b[0m)             │         \u001b[38;5;34m8,224\u001b[0m │\n",
       "├─────────────────────────────────┼────────────────────────┼───────────────┤\n",
       "│ dense_29 (\u001b[38;5;33mDense\u001b[0m)                │ (\u001b[38;5;45mNone\u001b[0m, \u001b[38;5;34m7\u001b[0m)              │           \u001b[38;5;34m231\u001b[0m │\n",
       "└─────────────────────────────────┴────────────────────────┴───────────────┘\n"
      ]
     },
     "metadata": {},
     "output_type": "display_data"
    },
    {
     "data": {
      "text/html": [
       "<pre style=\"white-space:pre;overflow-x:auto;line-height:normal;font-family:Menlo,'DejaVu Sans Mono',consolas,'Courier New',monospace\"><span style=\"font-weight: bold\"> Total params: </span><span style=\"color: #00af00; text-decoration-color: #00af00\">384,455</span> (1.47 MB)\n",
       "</pre>\n"
      ],
      "text/plain": [
       "\u001b[1m Total params: \u001b[0m\u001b[38;5;34m384,455\u001b[0m (1.47 MB)\n"
      ]
     },
     "metadata": {},
     "output_type": "display_data"
    },
    {
     "data": {
      "text/html": [
       "<pre style=\"white-space:pre;overflow-x:auto;line-height:normal;font-family:Menlo,'DejaVu Sans Mono',consolas,'Courier New',monospace\"><span style=\"font-weight: bold\"> Trainable params: </span><span style=\"color: #00af00; text-decoration-color: #00af00\">384,455</span> (1.47 MB)\n",
       "</pre>\n"
      ],
      "text/plain": [
       "\u001b[1m Trainable params: \u001b[0m\u001b[38;5;34m384,455\u001b[0m (1.47 MB)\n"
      ]
     },
     "metadata": {},
     "output_type": "display_data"
    },
    {
     "data": {
      "text/html": [
       "<pre style=\"white-space:pre;overflow-x:auto;line-height:normal;font-family:Menlo,'DejaVu Sans Mono',consolas,'Courier New',monospace\"><span style=\"font-weight: bold\"> Non-trainable params: </span><span style=\"color: #00af00; text-decoration-color: #00af00\">0</span> (0.00 B)\n",
       "</pre>\n"
      ],
      "text/plain": [
       "\u001b[1m Non-trainable params: \u001b[0m\u001b[38;5;34m0\u001b[0m (0.00 B)\n"
      ]
     },
     "metadata": {},
     "output_type": "display_data"
    }
   ],
   "source": [
    "num_classes = 7\n",
    "\n",
    "model = Sequential()\n",
    "model.add(Conv2D(256, (3, 3), activation=\"relu\", input_shape=(SIZE, SIZE, 3)))\n",
    "model.add(MaxPool2D(pool_size=(2, 2)))  \n",
    "model.add(Dropout(0.3))\n",
    "\n",
    "model.add(Conv2D(128, (3, 3),activation='relu'))\n",
    "model.add(MaxPool2D(pool_size=(2, 2)))  \n",
    "model.add(Dropout(0.3))\n",
    "\n",
    "model.add(Conv2D(64, (3, 3),activation='relu'))\n",
    "model.add(MaxPool2D(pool_size=(2, 2)))  \n",
    "model.add(Dropout(0.3))\n",
    "model.add(Flatten())\n",
    "\n",
    "model.add(Dense(32))\n",
    "model.add(Dense(7, activation='softmax'))\n",
    "model.summary()\n",
    "\n",
    "#creating the model"
   ]
  },
  {
   "cell_type": "code",
   "execution_count": 135,
   "id": "e4ca90e4-9b3a-40fe-beb3-6dd4a6760171",
   "metadata": {},
   "outputs": [],
   "source": [
    "model.compile(loss='categorical_crossentropy', optimizer='Adam', metrics=['acc'])\n",
    "\n",
    "#assign loss function and optimizers to improve preformance"
   ]
  },
  {
   "cell_type": "code",
   "execution_count": 141,
   "id": "4dc2779b-3831-47a1-9bd0-fea6314e2d15",
   "metadata": {},
   "outputs": [],
   "source": [
    "batch_size = 32\n",
    "epochs = 75\n",
    "\n",
    "#assigns values for how the model trains and how many iterations it trains for"
   ]
  },
  {
   "cell_type": "code",
   "execution_count": 143,
   "id": "b95c778d-52c6-4390-977c-c09afc928726",
   "metadata": {},
   "outputs": [
    {
     "name": "stdout",
     "output_type": "stream",
     "text": [
      "Epoch 1/75\n",
      "66/66 - 4s - 59ms/step - acc: 0.8386 - loss: 0.4430 - val_acc: 0.7529 - val_loss: 0.8132\n",
      "Epoch 2/75\n",
      "66/66 - 4s - 62ms/step - acc: 0.8243 - loss: 0.4637 - val_acc: 0.7529 - val_loss: 0.8231\n",
      "Epoch 3/75\n",
      "66/66 - 4s - 61ms/step - acc: 0.8300 - loss: 0.4668 - val_acc: 0.7414 - val_loss: 0.8185\n",
      "Epoch 4/75\n",
      "66/66 - 4s - 63ms/step - acc: 0.8210 - loss: 0.4938 - val_acc: 0.7429 - val_loss: 0.8402\n",
      "Epoch 5/75\n",
      "66/66 - 4s - 61ms/step - acc: 0.8305 - loss: 0.4500 - val_acc: 0.7457 - val_loss: 0.8147\n",
      "Epoch 6/75\n",
      "66/66 - 4s - 64ms/step - acc: 0.8286 - loss: 0.4732 - val_acc: 0.7386 - val_loss: 0.8204\n",
      "Epoch 7/75\n",
      "66/66 - 4s - 62ms/step - acc: 0.8333 - loss: 0.4497 - val_acc: 0.7457 - val_loss: 0.8183\n",
      "Epoch 8/75\n",
      "66/66 - 4s - 61ms/step - acc: 0.8229 - loss: 0.4695 - val_acc: 0.7286 - val_loss: 0.8145\n",
      "Epoch 9/75\n",
      "66/66 - 4s - 61ms/step - acc: 0.8305 - loss: 0.4776 - val_acc: 0.7414 - val_loss: 0.8257\n",
      "Epoch 10/75\n",
      "66/66 - 4s - 66ms/step - acc: 0.8300 - loss: 0.4548 - val_acc: 0.7500 - val_loss: 0.8699\n",
      "Epoch 11/75\n",
      "66/66 - 4s - 62ms/step - acc: 0.8381 - loss: 0.4576 - val_acc: 0.7443 - val_loss: 0.8442\n",
      "Epoch 12/75\n",
      "66/66 - 4s - 63ms/step - acc: 0.8443 - loss: 0.4345 - val_acc: 0.7557 - val_loss: 0.7937\n",
      "Epoch 13/75\n",
      "66/66 - 4s - 65ms/step - acc: 0.8195 - loss: 0.4700 - val_acc: 0.7600 - val_loss: 0.8107\n",
      "Epoch 14/75\n",
      "66/66 - 4s - 61ms/step - acc: 0.8371 - loss: 0.4393 - val_acc: 0.7486 - val_loss: 0.8077\n",
      "Epoch 15/75\n",
      "66/66 - 4s - 62ms/step - acc: 0.8338 - loss: 0.4511 - val_acc: 0.7443 - val_loss: 0.7923\n",
      "Epoch 16/75\n",
      "66/66 - 4s - 61ms/step - acc: 0.8195 - loss: 0.4813 - val_acc: 0.7529 - val_loss: 0.8496\n",
      "Epoch 17/75\n",
      "66/66 - 4s - 61ms/step - acc: 0.8471 - loss: 0.4435 - val_acc: 0.7414 - val_loss: 0.8133\n",
      "Epoch 18/75\n",
      "66/66 - 4s - 61ms/step - acc: 0.8252 - loss: 0.4568 - val_acc: 0.7543 - val_loss: 0.8157\n",
      "Epoch 19/75\n",
      "66/66 - 4s - 63ms/step - acc: 0.8514 - loss: 0.4237 - val_acc: 0.7500 - val_loss: 0.8217\n",
      "Epoch 20/75\n",
      "66/66 - 4s - 62ms/step - acc: 0.8462 - loss: 0.4313 - val_acc: 0.7614 - val_loss: 0.7910\n",
      "Epoch 21/75\n",
      "66/66 - 4s - 65ms/step - acc: 0.8295 - loss: 0.4544 - val_acc: 0.7600 - val_loss: 0.8217\n",
      "Epoch 22/75\n",
      "66/66 - 4s - 62ms/step - acc: 0.8348 - loss: 0.4275 - val_acc: 0.7414 - val_loss: 0.8292\n",
      "Epoch 23/75\n",
      "66/66 - 4s - 62ms/step - acc: 0.8414 - loss: 0.4381 - val_acc: 0.7543 - val_loss: 0.8455\n",
      "Epoch 24/75\n",
      "66/66 - 4s - 61ms/step - acc: 0.8352 - loss: 0.4527 - val_acc: 0.7500 - val_loss: 0.8306\n",
      "Epoch 25/75\n",
      "66/66 - 4s - 62ms/step - acc: 0.8271 - loss: 0.4647 - val_acc: 0.7457 - val_loss: 0.9086\n",
      "Epoch 26/75\n",
      "66/66 - 4s - 65ms/step - acc: 0.8376 - loss: 0.4472 - val_acc: 0.7543 - val_loss: 0.8319\n",
      "Epoch 27/75\n",
      "66/66 - 5s - 76ms/step - acc: 0.8300 - loss: 0.4562 - val_acc: 0.7371 - val_loss: 0.8580\n",
      "Epoch 28/75\n",
      "66/66 - 4s - 64ms/step - acc: 0.8429 - loss: 0.4229 - val_acc: 0.7500 - val_loss: 0.8568\n",
      "Epoch 29/75\n",
      "66/66 - 4s - 67ms/step - acc: 0.8400 - loss: 0.4351 - val_acc: 0.7486 - val_loss: 0.8973\n",
      "Epoch 30/75\n",
      "66/66 - 4s - 63ms/step - acc: 0.8424 - loss: 0.4441 - val_acc: 0.7629 - val_loss: 0.8645\n",
      "Epoch 31/75\n",
      "66/66 - 4s - 62ms/step - acc: 0.8305 - loss: 0.4447 - val_acc: 0.7543 - val_loss: 0.8597\n",
      "Epoch 32/75\n",
      "66/66 - 4s - 62ms/step - acc: 0.8514 - loss: 0.4186 - val_acc: 0.7643 - val_loss: 0.7909\n",
      "Epoch 33/75\n",
      "66/66 - 4s - 64ms/step - acc: 0.8543 - loss: 0.4047 - val_acc: 0.7729 - val_loss: 0.8324\n",
      "Epoch 34/75\n",
      "66/66 - 4s - 64ms/step - acc: 0.8381 - loss: 0.4338 - val_acc: 0.7471 - val_loss: 0.8393\n",
      "Epoch 35/75\n",
      "66/66 - 4s - 67ms/step - acc: 0.8433 - loss: 0.4185 - val_acc: 0.7429 - val_loss: 0.8691\n",
      "Epoch 36/75\n",
      "66/66 - 4s - 66ms/step - acc: 0.8505 - loss: 0.4055 - val_acc: 0.7529 - val_loss: 0.8550\n",
      "Epoch 37/75\n",
      "66/66 - 4s - 66ms/step - acc: 0.8414 - loss: 0.4385 - val_acc: 0.7414 - val_loss: 0.8584\n",
      "Epoch 38/75\n",
      "66/66 - 4s - 65ms/step - acc: 0.8290 - loss: 0.4424 - val_acc: 0.7714 - val_loss: 0.8646\n",
      "Epoch 39/75\n",
      "66/66 - 4s - 64ms/step - acc: 0.8443 - loss: 0.4180 - val_acc: 0.7471 - val_loss: 0.8187\n",
      "Epoch 40/75\n",
      "66/66 - 4s - 65ms/step - acc: 0.8486 - loss: 0.4160 - val_acc: 0.7529 - val_loss: 0.8552\n",
      "Epoch 41/75\n",
      "66/66 - 5s - 79ms/step - acc: 0.8386 - loss: 0.4361 - val_acc: 0.7629 - val_loss: 0.8420\n",
      "Epoch 42/75\n",
      "66/66 - 5s - 74ms/step - acc: 0.8543 - loss: 0.4116 - val_acc: 0.7371 - val_loss: 0.9011\n",
      "Epoch 43/75\n",
      "66/66 - 4s - 66ms/step - acc: 0.8424 - loss: 0.4159 - val_acc: 0.7571 - val_loss: 0.8509\n",
      "Epoch 44/75\n",
      "66/66 - 4s - 66ms/step - acc: 0.8429 - loss: 0.4353 - val_acc: 0.7486 - val_loss: 0.9065\n",
      "Epoch 45/75\n",
      "66/66 - 4s - 65ms/step - acc: 0.8429 - loss: 0.4108 - val_acc: 0.7414 - val_loss: 0.8796\n",
      "Epoch 46/75\n",
      "66/66 - 4s - 66ms/step - acc: 0.8295 - loss: 0.4476 - val_acc: 0.7543 - val_loss: 0.8771\n",
      "Epoch 47/75\n",
      "66/66 - 4s - 67ms/step - acc: 0.8438 - loss: 0.4063 - val_acc: 0.7500 - val_loss: 0.8422\n",
      "Epoch 48/75\n",
      "66/66 - 4s - 66ms/step - acc: 0.8576 - loss: 0.3920 - val_acc: 0.7471 - val_loss: 0.8608\n",
      "Epoch 49/75\n",
      "66/66 - 4s - 66ms/step - acc: 0.8595 - loss: 0.4103 - val_acc: 0.7414 - val_loss: 0.8237\n",
      "Epoch 50/75\n",
      "66/66 - 4s - 65ms/step - acc: 0.8438 - loss: 0.4112 - val_acc: 0.7571 - val_loss: 0.8050\n",
      "Epoch 51/75\n",
      "66/66 - 4s - 67ms/step - acc: 0.8529 - loss: 0.4070 - val_acc: 0.7557 - val_loss: 0.8440\n",
      "Epoch 52/75\n",
      "66/66 - 4s - 65ms/step - acc: 0.8414 - loss: 0.4229 - val_acc: 0.7443 - val_loss: 0.8352\n",
      "Epoch 53/75\n",
      "66/66 - 5s - 72ms/step - acc: 0.8410 - loss: 0.4132 - val_acc: 0.7471 - val_loss: 0.8324\n",
      "Epoch 54/75\n",
      "66/66 - 5s - 74ms/step - acc: 0.8410 - loss: 0.4147 - val_acc: 0.7414 - val_loss: 0.8354\n",
      "Epoch 55/75\n",
      "66/66 - 5s - 69ms/step - acc: 0.8533 - loss: 0.3940 - val_acc: 0.7371 - val_loss: 0.8642\n",
      "Epoch 56/75\n",
      "66/66 - 4s - 65ms/step - acc: 0.8538 - loss: 0.3963 - val_acc: 0.7514 - val_loss: 0.8263\n",
      "Epoch 57/75\n",
      "66/66 - 4s - 68ms/step - acc: 0.8519 - loss: 0.3976 - val_acc: 0.7500 - val_loss: 0.8404\n",
      "Epoch 58/75\n",
      "66/66 - 5s - 69ms/step - acc: 0.8552 - loss: 0.3845 - val_acc: 0.7543 - val_loss: 0.8308\n",
      "Epoch 59/75\n",
      "66/66 - 4s - 68ms/step - acc: 0.8576 - loss: 0.3912 - val_acc: 0.7443 - val_loss: 0.8389\n",
      "Epoch 60/75\n",
      "66/66 - 4s - 67ms/step - acc: 0.8371 - loss: 0.4213 - val_acc: 0.7571 - val_loss: 0.8578\n",
      "Epoch 61/75\n",
      "66/66 - 4s - 68ms/step - acc: 0.8443 - loss: 0.4227 - val_acc: 0.7557 - val_loss: 0.8609\n",
      "Epoch 62/75\n",
      "66/66 - 4s - 67ms/step - acc: 0.8362 - loss: 0.4427 - val_acc: 0.7471 - val_loss: 0.8787\n",
      "Epoch 63/75\n",
      "66/66 - 4s - 65ms/step - acc: 0.8471 - loss: 0.4189 - val_acc: 0.7543 - val_loss: 0.8733\n",
      "Epoch 64/75\n",
      "66/66 - 4s - 66ms/step - acc: 0.8567 - loss: 0.4059 - val_acc: 0.7643 - val_loss: 0.8220\n",
      "Epoch 65/75\n",
      "66/66 - 4s - 66ms/step - acc: 0.8657 - loss: 0.3678 - val_acc: 0.7586 - val_loss: 0.8457\n",
      "Epoch 66/75\n",
      "66/66 - 4s - 66ms/step - acc: 0.8514 - loss: 0.3847 - val_acc: 0.7514 - val_loss: 0.8274\n",
      "Epoch 67/75\n",
      "66/66 - 5s - 73ms/step - acc: 0.8643 - loss: 0.3828 - val_acc: 0.7543 - val_loss: 0.8584\n",
      "Epoch 68/75\n",
      "66/66 - 4s - 65ms/step - acc: 0.8495 - loss: 0.4252 - val_acc: 0.7500 - val_loss: 0.8388\n",
      "Epoch 69/75\n",
      "66/66 - 5s - 73ms/step - acc: 0.8690 - loss: 0.3638 - val_acc: 0.7700 - val_loss: 0.8614\n",
      "Epoch 70/75\n",
      "66/66 - 4s - 66ms/step - acc: 0.8548 - loss: 0.3918 - val_acc: 0.7614 - val_loss: 0.8874\n",
      "Epoch 71/75\n",
      "66/66 - 4s - 65ms/step - acc: 0.8619 - loss: 0.3754 - val_acc: 0.7386 - val_loss: 0.8601\n",
      "Epoch 72/75\n",
      "66/66 - 4s - 64ms/step - acc: 0.8538 - loss: 0.4072 - val_acc: 0.7471 - val_loss: 0.8719\n",
      "Epoch 73/75\n",
      "66/66 - 4s - 64ms/step - acc: 0.8671 - loss: 0.3631 - val_acc: 0.7586 - val_loss: 0.8565\n",
      "Epoch 74/75\n",
      "66/66 - 4s - 65ms/step - acc: 0.8700 - loss: 0.3599 - val_acc: 0.7486 - val_loss: 0.8377\n",
      "Epoch 75/75\n",
      "66/66 - 4s - 64ms/step - acc: 0.8719 - loss: 0.3417 - val_acc: 0.7543 - val_loss: 0.9108\n"
     ]
    }
   ],
   "source": [
    "history = model.fit(\n",
    "    x_train, y_train,\n",
    "    epochs=epochs,\n",
    "    batch_size = batch_size,\n",
    "    validation_data=(x_val, y_val),\n",
    "    verbose=2)\n",
    "#trains the model"
   ]
  },
  {
   "cell_type": "code",
   "execution_count": 144,
   "id": "1d3c5f66-cda3-48d7-bdf9-b4a33304023b",
   "metadata": {},
   "outputs": [
    {
     "name": "stdout",
     "output_type": "stream",
     "text": [
      "\u001b[1m22/22\u001b[0m \u001b[32m━━━━━━━━━━━━━━━━━━━━\u001b[0m\u001b[37m\u001b[0m \u001b[1m0s\u001b[0m 14ms/step - acc: 0.7684 - loss: 0.8684\n"
     ]
    },
    {
     "data": {
      "text/plain": [
       "[0.8559561371803284, 0.7714285850524902]"
      ]
     },
     "execution_count": 144,
     "metadata": {},
     "output_type": "execute_result"
    }
   ],
   "source": [
    "model.evaluate(x_test, y_test)"
   ]
  },
  {
   "cell_type": "code",
   "execution_count": 147,
   "id": "8d1e7286-d1a0-42b0-b637-24f2e75d59b6",
   "metadata": {},
   "outputs": [],
   "source": [
    "model.save('skin_cancer_model.keras')"
   ]
  },
  {
   "cell_type": "code",
   "execution_count": 155,
   "id": "0b5082be-0617-477b-a8aa-1e5d94a988b4",
   "metadata": {},
   "outputs": [
    {
     "name": "stderr",
     "output_type": "stream",
     "text": [
      "WARNING:absl:Compiled the loaded model, but the compiled metrics have yet to be built. `model.compile_metrics` will be empty until you train or evaluate the model.\n"
     ]
    },
    {
     "name": "stdout",
     "output_type": "stream",
     "text": [
      "Running on local URL:  http://127.0.0.1:7870\n",
      "\n",
      "To create a public link, set `share=True` in `launch()`.\n"
     ]
    },
    {
     "data": {
      "text/html": [
       "<div><iframe src=\"http://127.0.0.1:7870/\" width=\"100%\" height=\"500\" allow=\"autoplay; camera; microphone; clipboard-read; clipboard-write;\" frameborder=\"0\" allowfullscreen></iframe></div>"
      ],
      "text/plain": [
       "<IPython.core.display.HTML object>"
      ]
     },
     "metadata": {},
     "output_type": "display_data"
    },
    {
     "data": {
      "text/plain": []
     },
     "execution_count": 155,
     "metadata": {},
     "output_type": "execute_result"
    },
    {
     "name": "stdout",
     "output_type": "stream",
     "text": [
      "\u001b[1m1/1\u001b[0m \u001b[32m━━━━━━━━━━━━━━━━━━━━\u001b[0m\u001b[37m\u001b[0m \u001b[1m0s\u001b[0m 36ms/step\n",
      "\u001b[1m1/1\u001b[0m \u001b[32m━━━━━━━━━━━━━━━━━━━━\u001b[0m\u001b[37m\u001b[0m \u001b[1m0s\u001b[0m 13ms/step\n",
      "\u001b[1m1/1\u001b[0m \u001b[32m━━━━━━━━━━━━━━━━━━━━\u001b[0m\u001b[37m\u001b[0m \u001b[1m0s\u001b[0m 7ms/step\n"
     ]
    }
   ],
   "source": [
    "import gradio as gr\n",
    "import numpy as np\n",
    "from tensorflow.keras.models import load_model\n",
    "from tensorflow.keras.preprocessing import image\n",
    "from PIL import Image\n",
    "\n",
    "# Load the trained model\n",
    "model = load_model('skin_cancer_model.h5')\n",
    "\n",
    "# Define class labels\n",
    "class_labels = [\n",
    "    'Actinic keratoses (akiec)', 'Basal cell carcinoma (bcc)', \n",
    "    'Benign keratosis-like lesions (bkl)', 'Dermatofibroma (df)', \n",
    "    'Melanoma (mel)', 'Melanocytic nevi (nv)', 'Vascular lesions (vasc)'\n",
    "]\n",
    "\n",
    "# Define the prediction function\n",
    "def predict_skin_cancer(img):\n",
    "    img = img.resize((32, 32))  # Resize image to match the input size of the model\n",
    "    img = np.array(img) / 255.0  # Normalize the image\n",
    "    img = np.expand_dims(img, axis=0)  # Add batch dimension\n",
    "\n",
    "    prediction = model.predict(img)\n",
    "    predicted_class = class_labels[np.argmax(prediction)]\n",
    "    confidence = np.max(prediction)\n",
    "\n",
    "    return predicted_class, confidence\n",
    "\n",
    "# Create Gradio interface\n",
    "iface = gr.Interface(\n",
    "    fn=predict_skin_cancer,\n",
    "    inputs=gr.Image(type=\"pil\"),\n",
    "    outputs=[gr.Textbox(label=\"Predicted Class\"), gr.Textbox(label=\"Confidence\")],\n",
    "    title=\"SPOT - Medical Image Diagnosis\",\n",
    "    description=\"Upload an image of a skin lesion and the model will predict the type of skin cancer.\"\n",
    ")\n",
    "\n",
    "# Launch the interface\n",
    "iface.launch()\n"
   ]
  },
  {
   "cell_type": "code",
   "execution_count": null,
   "id": "31c365dc-b997-409f-9ab5-063cdeaf1a13",
   "metadata": {},
   "outputs": [],
   "source": []
  }
 ],
 "metadata": {
  "kernelspec": {
   "display_name": "SPOT-env",
   "language": "python",
   "name": "python3"
  },
  "language_info": {
   "codemirror_mode": {
    "name": "ipython",
    "version": 3
   },
   "file_extension": ".py",
   "mimetype": "text/x-python",
   "name": "python",
   "nbconvert_exporter": "python",
   "pygments_lexer": "ipython3",
   "version": "3.11.11"
  }
 },
 "nbformat": 4,
 "nbformat_minor": 5
}
